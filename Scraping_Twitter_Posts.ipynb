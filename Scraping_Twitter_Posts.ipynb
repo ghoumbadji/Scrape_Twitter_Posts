{
 "cells": [
  {
   "cell_type": "code",
   "execution_count": 1,
   "id": "803d8c0d-9730-48ab-b495-417e21151e52",
   "metadata": {},
   "outputs": [],
   "source": [
    "import time\n",
    "import requests\n",
    "from bs4 import BeautifulSoup\n",
    "from selenium import webdriver"
   ]
  },
  {
   "cell_type": "code",
   "execution_count": 3,
   "id": "86893fc4-6c25-47e6-8ea2-1c6589e21632",
   "metadata": {},
   "outputs": [],
   "source": [
    "def scrape_x_posts(username, nbr):\n",
    "    posts = []\n",
    "    count = 0\n",
    "    base_url = f\"https://nitter.net/{username}\"\n",
    "    url = base_url\n",
    "\n",
    "    # Using chrome to load dynamically the pages\n",
    "    driver = webdriver.Chrome()\n",
    "    \n",
    "    while count < nbr:\n",
    "        driver.get(url)\n",
    "        time.sleep(2)\n",
    "        soup = BeautifulSoup(driver.page_source, \"html.parser\")\n",
    "        divs = soup.find_all(\"div\", class_=\"timeline-item\")\n",
    "\n",
    "        if not divs:\n",
    "            print(\"Unable to load tweets.\")\n",
    "            break\n",
    "\n",
    "        for div in divs:\n",
    "            if count == nbr:\n",
    "                break\n",
    "\n",
    "            # Retrieving tweet link\n",
    "            a_tag = div.find(\"a\", class_=\"tweet-link\")\n",
    "            if not a_tag:\n",
    "                continue\n",
    "            \n",
    "            link = \"https://nitter.net\" + a_tag.get(\"href\")\n",
    "                \n",
    "            # Avoiding retweets\n",
    "            if username in link:\n",
    "                # Retrieving date\n",
    "                span_tag = div.find(\"span\", class_=\"tweet-date\")\n",
    "                a_date_tag = span_tag.find(\"a\") if span_tag else None\n",
    "                publication_date = a_date_tag[\"title\"] if a_date_tag else \"unknown\"\n",
    "                    \n",
    "                # Retrieving tweet content\n",
    "                content_div = div.find(\"div\", class_=\"tweet-content media-body\")\n",
    "                content = content_div.get_text(strip=True) if content_div else \"\"\n",
    "\n",
    "                # Adding tweet to list\n",
    "                posts.append({\n",
    "                    \"link\": link,\n",
    "                    \"publication_date\": publication_date,\n",
    "                    \"content\": content\n",
    "                })\n",
    "                count += 1\n",
    "\n",
    "        # Handling page transitions\n",
    "        show_more = soup.find(\"div\", class_=\"show-more\", string=lambda text: text and \"Load more\" in text)\n",
    "        next_link_tag = show_more.find(\"a\") if show_more else None\n",
    "        if next_link_tag:\n",
    "            url = base_url + next_link_tag[\"href\"]\n",
    "        else:\n",
    "            break\n",
    "    \n",
    "    driver.quit()\n",
    "    return posts"
   ]
  },
  {
   "cell_type": "code",
   "execution_count": 7,
   "id": "551d4cfe-61cd-4afc-9d10-94a5f8d2018e",
   "metadata": {},
   "outputs": [],
   "source": [
    "posts = scrape_x_posts(\"ylecun\", 10)"
   ]
  },
  {
   "cell_type": "code",
   "execution_count": 9,
   "id": "f1141929-20de-4195-babd-7294985d4cd9",
   "metadata": {},
   "outputs": [
    {
     "data": {
      "text/plain": [
       "[{'link': 'https://nitter.net/ylecun/status/1862598063275061484#m',\n",
       "  'publication_date': 'Nov 29, 2024 · 8:42 PM UTC',\n",
       "  'content': \"I do not write posts on X.\\nI tweet links to posts on other platforms.\\nI like and retweet (occasionally)\\nI comment on friends' tweets (rarely)\\nFollow me on...⬇️⬇️⬇️\"},\n",
       " {'link': 'https://nitter.net/ylecun/status/1916482680012849162#m',\n",
       "  'publication_date': 'Apr 27, 2025 · 1:20 PM UTC',\n",
       "  'content': 'Starting now.eventbrite.sg/e/nus120-disti…'},\n",
       " {'link': 'https://nitter.net/ylecun/status/1913609805467369718#m',\n",
       "  'publication_date': 'Apr 19, 2025 · 3:05 PM UTC',\n",
       "  'content': 'Excellentes recommandations de la part de l\\'ancien ministre des finances Bruno Le Maire.\\n\"Les Européens se trouvent devant une alternative simple : investir ou mourir. Investir dans l’IA pour améliorer notre productivité et donc offrir enfin de meilleurs salaires à ceux qui travaillent, investir dans la défense pour garantir notre sécurité,...\"'},\n",
       " {'link': 'https://nitter.net/ylecun/status/1913250916410548455#m',\n",
       "  'publication_date': 'Apr 18, 2025 · 3:18 PM UTC',\n",
       "  'content': 'Open source AI FTW.\\nFrom Meta-FAIR.'},\n",
       " {'link': 'https://nitter.net/ylecun/status/1911092247270977558#m',\n",
       "  'publication_date': 'Apr 12, 2025 · 4:21 PM UTC',\n",
       "  'content': 'piped.video/BytuEqzQH1U?si=FIPO…'},\n",
       " {'link': 'https://nitter.net/ylecun/status/1909943354458067079#m',\n",
       "  'publication_date': 'Apr 9, 2025 · 12:15 PM UTC',\n",
       "  'content': 'World models in autonomous driving FTW !'},\n",
       " {'link': 'https://nitter.net/ylecun/status/1909313264460378114#m',\n",
       "  'publication_date': 'Apr 7, 2025 · 6:32 PM UTC',\n",
       "  'content': 'Some carifications about Llama-4.'},\n",
       " {'link': 'https://nitter.net/ylecun/status/1908616923786719483#m',\n",
       "  'publication_date': 'Apr 5, 2025 · 8:25 PM UTC',\n",
       "  'content': 'BOOM! The Llama-4 brood is out.'},\n",
       " {'link': 'https://nitter.net/ylecun/status/1907824241174577528#m',\n",
       "  'publication_date': 'Apr 3, 2025 · 3:55 PM UTC',\n",
       "  'content': 'threads.net/@yannlecun/post/…facebook.com/share/p/1AH4PxC…linkedin.com/posts/yann-lecu…'},\n",
       " {'link': 'https://nitter.net/ylecun/status/1907823727162650830#m',\n",
       "  'publication_date': 'Apr 3, 2025 · 3:53 PM UTC',\n",
       "  'content': 'New paper from FAIR+NYU:\\nQ: Is language supervision required to learn effective visual representations for multimodal tasks?  \\nA: No.\\n⬇️⬇️⬇️'}]"
      ]
     },
     "execution_count": 9,
     "metadata": {},
     "output_type": "execute_result"
    }
   ],
   "source": [
    "posts"
   ]
  }
 ],
 "metadata": {
  "kernelspec": {
   "display_name": "Python 3 (ipykernel)",
   "language": "python",
   "name": "python3"
  },
  "language_info": {
   "codemirror_mode": {
    "name": "ipython",
    "version": 3
   },
   "file_extension": ".py",
   "mimetype": "text/x-python",
   "name": "python",
   "nbconvert_exporter": "python",
   "pygments_lexer": "ipython3",
   "version": "3.12.2"
  }
 },
 "nbformat": 4,
 "nbformat_minor": 5
}
